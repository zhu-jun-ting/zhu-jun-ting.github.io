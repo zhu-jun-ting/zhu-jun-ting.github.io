{
 "cells": [
  {
   "cell_type": "markdown",
   "metadata": {},
   "source": [
    "[the link to the website page with vegalite](https://zhu-jun-ting.github.io/)\n",
    "\n",
    "[the repo page](https://github.com/zhu-jun-ting/zhu-jun-ting.github.io)"
   ]
  }
 ],
 "metadata": {
  "language_info": {
   "name": "python"
  },
  "orig_nbformat": 4
 },
 "nbformat": 4,
 "nbformat_minor": 2
}
